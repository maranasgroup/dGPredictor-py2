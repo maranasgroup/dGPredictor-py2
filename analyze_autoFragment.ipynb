{
 "cells": [
  {
   "cell_type": "code",
   "execution_count": 122,
   "metadata": {},
   "outputs": [],
   "source": [
    "import pandas as pd\n",
    "from rdkit import Chem\n",
    "import decompose_groups\n",
    "from decompose_groups import decompse_ac "
   ]
  },
  {
   "cell_type": "code",
   "execution_count": 123,
   "metadata": {},
   "outputs": [],
   "source": [
    "db = pd.read_csv('./data/test_compounds.csv',index_col='compound_id')\n",
    "db_smiles = db['smiles_pH7'].to_dict()"
   ]
  },
  {
   "cell_type": "code",
   "execution_count": 124,
   "metadata": {},
   "outputs": [
    {
     "data": {
      "image/png": "[encoded data removed]",
      "text/plain": [
       "<rdkit.Chem.rdchem.Mol at 0x7fe4f7de3d00>"
      ]
     },
     "execution_count": 124,
     "metadata": {},
     "output_type": "execute_result"
    }
   ],
   "source": [
    "#smiles_pH7 = db_smiles['C00027']\n",
    "smiles_pH7 = db_smiles['C00001']\n",
    "\n",
    "m = Chem.MolFromSmiles(smiles_pH7)\n",
    "\n",
    "m"
   ]
  },
  {
   "cell_type": "raw",
   "metadata": {},
   "source": [
    " m is a https://www.rdkit.org/docs/source/rdkit.Chem.rdchem.html#rdkit.Chem.rdchem.Mol  object"
   ]
  },
  {
   "cell_type": "raw",
   "metadata": {},
   "source": [
    "https://www.rdkit.org/docs/source/rdkit.Chem.rdmolops.html\n",
    "rdkit.Chem.rdmolops.FindAtomEnvironmentOfRadiusN((Mol)mol, (int)radius, (int)rootedAtAtom[, (bool)useHs=False]) → _vecti :\n",
    "\n",
    "    Finds the bonds within a certain radius of an atom in a molecule\n",
    "\n",
    "        ARGUMENTS:\n",
    "\n",
    "                mol: the molecule to use\n",
    "\n",
    "                radius: an integer with the target radius for the environment.\n",
    "\n",
    "                rootedAtAtom: the atom to consider\n",
    "\n",
    "                useHs: (optional) toggles whether or not bonds to Hs that are part of the graph should be included in the results. Defaults to 0.\n",
    "\n",
    "        RETURNS: a vector of bond IDs\n",
    "\n",
    "    C++ signature :\n",
    "\n",
    "        std::vector<int, std::allocator<int> > FindAtomEnvironmentOfRadiusN(RDKit::ROMol,unsigned int,unsigned int [,bool=False])\n",
    "\n"
   ]
  },
  {
   "cell_type": "code",
   "execution_count": 125,
   "metadata": {},
   "outputs": [
    {
     "name": "stdout",
     "output_type": "stream",
     "text": [
      "Radius 1\n",
      "Range of atomList range(0, 1)\n",
      "Atom: 0 , environment length: 0\n",
      "smi_count {}\n",
      "smi_count {'O': 1}\n"
     ]
    }
   ],
   "source": [
    "smi_count = dict()\n",
    "atomList = [atom for atom in m.GetAtoms()]\n",
    "radius = 1;\n",
    "print('Radius',radius)\n",
    "print('Range of atomList',range(len(atomList)))\n",
    "for i in range(len(atomList)):\n",
    "    #print('i',i)\n",
    "    env = Chem.FindAtomEnvironmentOfRadiusN(m,radius,i)\n",
    "    print('Atom:',i,', environment length:',len(env))\n",
    "    if len(env) >= 1:\n",
    "        atoms=set()\n",
    "        for bidx in env:\n",
    "            print(bidx)\n",
    "            atoms.add(m.GetBondWithIdx(bidx).GetBeginAtomIdx())\n",
    "            atoms.add(m.GetBondWithIdx(bidx).GetEndAtomIdx())\n",
    "\n",
    "        # only one atom is in this environment, such as O in H2O\n",
    "        if len(atoms) == 0:\n",
    "            atoms = {i}\n",
    "\n",
    "        smi = Chem.MolFragmentToSmiles(m,atomsToUse=list(atoms),\n",
    "                                    bondsToUse=env,canonical=True)\n",
    "\n",
    "        if smi in smi_count:\n",
    "            smi_count[smi] = smi_count[smi] + 1\n",
    "        else:\n",
    "            smi_count[smi] = 1\n",
    "print('smi_count',smi_count)\n",
    "if bool(smi_count)==False and radius==1:\n",
    "    smi = Chem.MolToSmiles(m)\n",
    "    smi_count[smi] = 1\n",
    "print('smi_count',smi_count)"
   ]
  },
  {
   "cell_type": "code",
   "execution_count": 126,
   "metadata": {},
   "outputs": [],
   "source": [
    "decompse_ac(db_smiles)"
   ]
  },
  {
   "cell_type": "code",
   "execution_count": null,
   "metadata": {},
   "outputs": [],
   "source": []
  },
  {
   "cell_type": "code",
   "execution_count": null,
   "metadata": {},
   "outputs": [],
   "source": []
  }
 ],
 "metadata": {
  "kernelspec": {
   "display_name": "Python 3",
   "language": "python",
   "name": "python3"
  },
  "language_info": {
   "codemirror_mode": {
    "name": "ipython",
    "version": 3
   },
   "file_extension": ".py",
   "mimetype": "text/x-python",
   "name": "python",
   "nbconvert_exporter": "python",
   "pygments_lexer": "ipython3",
   "version": "3.8.8"
  }
 },
 "nbformat": 4,
 "nbformat_minor": 4
}
