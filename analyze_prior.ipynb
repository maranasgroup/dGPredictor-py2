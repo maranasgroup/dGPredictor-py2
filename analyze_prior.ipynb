{
 "cells": [
  {
   "cell_type": "code",
   "execution_count": 1,
   "metadata": {},
   "outputs": [],
   "source": [
    "%matplotlib inline\n",
    "%config InlineBackend.figure_format = 'retina'\n",
    "\n",
    "import pickle\n",
    "import numpy as np\n",
    "import pandas as pd\n",
    "import matplotlib.pyplot as plt\n",
    "from scipy.stats import norm\n",
    "\n",
    "# import seaborn as sns\n",
    "# sns.set()"
   ]
  },
  {
   "cell_type": "code",
   "execution_count": 2,
   "metadata": {},
   "outputs": [],
   "source": [
    "filename = './model/bayesianRL_ac_all_model.sav'"
   ]
  },
  {
   "cell_type": "code",
   "execution_count": 3,
   "metadata": {},
   "outputs": [
    {
     "name": "stderr",
     "output_type": "stream",
     "text": [
      "/Users/linuswang/anaconda2/lib/python2.7/site-packages/sklearn/base.py:251: UserWarning: Trying to unpickle estimator BayesianRidge from version 0.20.4 when using version 0.20.1. This might lead to breaking code or invalid results. Use at your own risk.\n",
      "  UserWarning)\n"
     ]
    }
   ],
   "source": [
    "loaded_model = pickle.load(open(filename, 'rb'))"
   ]
  },
  {
   "cell_type": "code",
   "execution_count": 4,
   "metadata": {},
   "outputs": [],
   "source": [
    "coef = loaded_model.coef_"
   ]
  },
  {
   "cell_type": "code",
   "execution_count": 5,
   "metadata": {},
   "outputs": [],
   "source": [
    "sigma = loaded_model.sigma_"
   ]
  },
  {
   "cell_type": "code",
   "execution_count": 6,
   "metadata": {},
   "outputs": [],
   "source": [
    "cov = [np.sqrt(sigma[i][i]) for i in range(len(sigma))]"
   ]
  },
  {
   "cell_type": "code",
   "execution_count": 7,
   "metadata": {},
   "outputs": [],
   "source": [
    "info = dict()\n",
    "info['coef'] = coef\n",
    "info['cov'] = cov\n",
    "df = pd.DataFrame.from_dict(info)"
   ]
  },
  {
   "cell_type": "code",
   "execution_count": 8,
   "metadata": {},
   "outputs": [
    {
     "data": {
      "text/plain": [
       "(1479, 2)"
      ]
     },
     "execution_count": 8,
     "metadata": {},
     "output_type": "execute_result"
    }
   ],
   "source": [
    "df.shape"
   ]
  },
  {
   "cell_type": "code",
   "execution_count": 9,
   "metadata": {},
   "outputs": [],
   "source": [
    "df = df[:1435]"
   ]
  },
  {
   "cell_type": "code",
   "execution_count": 10,
   "metadata": {},
   "outputs": [],
   "source": [
    "# df.shape\n",
    "groups_df = pd.read_csv('./data/group_names_all.txt',header=None)\n",
    "groups =groups_df[0].tolist()\n",
    "df['group'] = groups"
   ]
  },
  {
   "cell_type": "code",
   "execution_count": 11,
   "metadata": {},
   "outputs": [
    {
     "data": {
      "text/html": [
       "<div>\n",
       "<style scoped>\n",
       "    .dataframe tbody tr th:only-of-type {\n",
       "        vertical-align: middle;\n",
       "    }\n",
       "\n",
       "    .dataframe tbody tr th {\n",
       "        vertical-align: top;\n",
       "    }\n",
       "\n",
       "    .dataframe thead th {\n",
       "        text-align: right;\n",
       "    }\n",
       "</style>\n",
       "<table border=\"1\" class=\"dataframe\">\n",
       "  <thead>\n",
       "    <tr style=\"text-align: right;\">\n",
       "      <th></th>\n",
       "      <th>coef</th>\n",
       "      <th>cov</th>\n",
       "      <th>group</th>\n",
       "    </tr>\n",
       "  </thead>\n",
       "  <tbody>\n",
       "    <tr>\n",
       "      <th>0</th>\n",
       "      <td>-1.268175e-10</td>\n",
       "      <td>89.894796</td>\n",
       "      <td>BO</td>\n",
       "    </tr>\n",
       "    <tr>\n",
       "      <th>1</th>\n",
       "      <td>6.311613e-08</td>\n",
       "      <td>89.894796</td>\n",
       "      <td>Bc(c)c</td>\n",
       "    </tr>\n",
       "    <tr>\n",
       "      <th>2</th>\n",
       "      <td>1.028100e-08</td>\n",
       "      <td>89.894796</td>\n",
       "      <td>BrC(Br)Br</td>\n",
       "    </tr>\n",
       "    <tr>\n",
       "      <th>3</th>\n",
       "      <td>-3.420951e+01</td>\n",
       "      <td>6.279318</td>\n",
       "      <td>C</td>\n",
       "    </tr>\n",
       "    <tr>\n",
       "      <th>4</th>\n",
       "      <td>-1.809010e-08</td>\n",
       "      <td>89.894796</td>\n",
       "      <td>C#C</td>\n",
       "    </tr>\n",
       "  </tbody>\n",
       "</table>\n",
       "</div>"
      ],
      "text/plain": [
       "           coef        cov      group\n",
       "0 -1.268175e-10  89.894796         BO\n",
       "1  6.311613e-08  89.894796     Bc(c)c\n",
       "2  1.028100e-08  89.894796  BrC(Br)Br\n",
       "3 -3.420951e+01   6.279318          C\n",
       "4 -1.809010e-08  89.894796        C#C"
      ]
     },
     "execution_count": 11,
     "metadata": {},
     "output_type": "execute_result"
    }
   ],
   "source": [
    "df.head()"
   ]
  },
  {
   "cell_type": "code",
   "execution_count": 12,
   "metadata": {},
   "outputs": [],
   "source": [
    "group_TECRDB = pd.read_csv('./data/group_names_TECRDB.txt',header=None)[0].tolist()"
   ]
  },
  {
   "cell_type": "code",
   "execution_count": 13,
   "metadata": {},
   "outputs": [],
   "source": [
    "df_TECRDB = df[df['group'].isin(group_TECRDB)]"
   ]
  },
  {
   "cell_type": "code",
   "execution_count": 14,
   "metadata": {},
   "outputs": [
    {
     "data": {
      "text/plain": [
       "(263, 3)"
      ]
     },
     "execution_count": 14,
     "metadata": {},
     "output_type": "execute_result"
    }
   ],
   "source": [
    "df_TECRDB.shape"
   ]
  },
  {
   "cell_type": "code",
   "execution_count": 15,
   "metadata": {},
   "outputs": [
    {
     "data": {
      "text/html": [
       "<div>\n",
       "<style scoped>\n",
       "    .dataframe tbody tr th:only-of-type {\n",
       "        vertical-align: middle;\n",
       "    }\n",
       "\n",
       "    .dataframe tbody tr th {\n",
       "        vertical-align: top;\n",
       "    }\n",
       "\n",
       "    .dataframe thead th {\n",
       "        text-align: right;\n",
       "    }\n",
       "</style>\n",
       "<table border=\"1\" class=\"dataframe\">\n",
       "  <thead>\n",
       "    <tr style=\"text-align: right;\">\n",
       "      <th></th>\n",
       "      <th>coef</th>\n",
       "      <th>cov</th>\n",
       "      <th>group</th>\n",
       "    </tr>\n",
       "  </thead>\n",
       "  <tbody>\n",
       "    <tr>\n",
       "      <th>3</th>\n",
       "      <td>-34.209513</td>\n",
       "      <td>6.279318</td>\n",
       "      <td>C</td>\n",
       "    </tr>\n",
       "    <tr>\n",
       "      <th>10</th>\n",
       "      <td>59.838150</td>\n",
       "      <td>3.142825</td>\n",
       "      <td>C#N</td>\n",
       "    </tr>\n",
       "    <tr>\n",
       "      <th>13</th>\n",
       "      <td>63.494219</td>\n",
       "      <td>1.931611</td>\n",
       "      <td>C/C(=C)C</td>\n",
       "    </tr>\n",
       "    <tr>\n",
       "      <th>26</th>\n",
       "      <td>49.194689</td>\n",
       "      <td>0.731655</td>\n",
       "      <td>C/C=C</td>\n",
       "    </tr>\n",
       "    <tr>\n",
       "      <th>29</th>\n",
       "      <td>34.750621</td>\n",
       "      <td>2.387616</td>\n",
       "      <td>C=C</td>\n",
       "    </tr>\n",
       "  </tbody>\n",
       "</table>\n",
       "</div>"
      ],
      "text/plain": [
       "         coef       cov     group\n",
       "3  -34.209513  6.279318         C\n",
       "10  59.838150  3.142825       C#N\n",
       "13  63.494219  1.931611  C/C(=C)C\n",
       "26  49.194689  0.731655     C/C=C\n",
       "29  34.750621  2.387616       C=C"
      ]
     },
     "execution_count": 15,
     "metadata": {},
     "output_type": "execute_result"
    }
   ],
   "source": [
    "df_TECRDB.head()"
   ]
  },
  {
   "cell_type": "code",
   "execution_count": 34,
   "metadata": {},
   "outputs": [
    {
     "data": {
      "text/plain": [
       "Text(0,0.5,\"$\\\\Delta G^{o'}$\")"
      ]
     },
     "execution_count": 34,
     "metadata": {},
     "output_type": "execute_result"
    },
    {
     "data": {
      "image/png": "[encoded data removed]",
      "text/plain": [
       "<Figure size 576x288 with 1 Axes>"
      ]
     },
     "metadata": {
      "image/png": {
       "height": 263,
       "width": 512
      },
      "needs_background": "light"
     },
     "output_type": "display_data"
    }
   ],
   "source": [
    "df_TECRDB= df_TECRDB.sort_values('coef')\n",
    "mean = df_TECRDB['coef']\n",
    "std  = df_TECRDB['cov']\n",
    "\n",
    "fig, ax = plt.subplots(figsize=(8,4))\n",
    "ax.errorbar(range(0,len(df_TECRDB.index)), mean, yerr=3*std, markersize='1',fmt='o', ecolor='burlywood', capthick=1)#,alpha=0.4)\n",
    "ax.axhline(y=0,linewidth=1,color='k')\n",
    "\n",
    "ax.axhline(y=270,linewidth=1,color='grey')\n",
    "ax.axhline(y=-270,linewidth=1,color='grey')\n",
    "ax.fill_between(range(0,len(df_TECRDB.index)), -270, 270, alpha=0.2, color='white')\n",
    "plt.xlabel('reaction')\n",
    "plt.ylabel('$\\Delta G^{o\\'}$')\n",
    "# ax.errorbar(prediction.reaction, mean, yerr=std, fmt='-o') #fmt=None to plot bars only"
   ]
  },
  {
   "cell_type": "code",
   "execution_count": 17,
   "metadata": {},
   "outputs": [
    {
     "data": {
      "text/plain": [
       "Text(0,0.5,'Count')"
      ]
     },
     "execution_count": 17,
     "metadata": {},
     "output_type": "execute_result"
    },
    {
     "data": {
      "image/png": "[encoded data removed]",
      "text/plain": [
       "<Figure size 432x288 with 1 Axes>"
      ]
     },
     "metadata": {
      "image/png": {
       "height": 267,
       "width": 384
      },
      "needs_background": "light"
     },
     "output_type": "display_data"
    }
   ],
   "source": [
    "plt.hist(df_TECRDB['coef'], bins=50)\n",
    "# plt.xscale('log')\n",
    "plt.xlabel('$\\Delta_g G^o$')\n",
    "plt.ylabel('Count')\n",
    "\n"
   ]
  },
  {
   "cell_type": "code",
   "execution_count": 18,
   "metadata": {},
   "outputs": [
    {
     "name": "stderr",
     "output_type": "stream",
     "text": [
      "/Users/linuswang/anaconda2/lib/python2.7/site-packages/matplotlib/axes/_axes.py:6571: UserWarning: The 'normed' kwarg is deprecated, and has been replaced by the 'density' kwarg.\n",
      "  warnings.warn(\"The 'normed' kwarg is deprecated, and has been \"\n"
     ]
    },
    {
     "data": {
      "text/plain": [
       "<matplotlib.axes._subplots.AxesSubplot at 0x10dd05450>"
      ]
     },
     "execution_count": 18,
     "metadata": {},
     "output_type": "execute_result"
    },
    {
     "data": {
      "image/png": "[encoded data removed]",
      "text/plain": [
       "<Figure size 432x288 with 1 Axes>"
      ]
     },
     "metadata": {
      "image/png": {
       "height": 250,
       "width": 400
      },
      "needs_background": "light"
     },
     "output_type": "display_data"
    }
   ],
   "source": [
    "df_TECRDB.coef.plot(kind='hist', normed=True,bins=50)\n",
    "\n",
    "# range = np.arange(-100, 100, 0.001)\n",
    "# plt.plot(range, norm.pdf(range,0,1))"
   ]
  },
  {
   "cell_type": "code",
   "execution_count": 19,
   "metadata": {},
   "outputs": [
    {
     "ename": "NameError",
     "evalue": "name 'sns' is not defined",
     "output_type": "error",
     "traceback": [
      "\u001b[0;31m-----------------------------------------------------------\u001b[0m",
      "\u001b[0;31mNameError\u001b[0m                 Traceback (most recent call last)",
      "\u001b[0;32m<ipython-input-19-2683deae1501>\u001b[0m in \u001b[0;36m<module>\u001b[0;34m()\u001b[0m\n\u001b[0;32m----> 1\u001b[0;31m sns.distplot(df_TECRDB['coef'], hist=True, kde=True, \n\u001b[0m\u001b[1;32m      2\u001b[0m              \u001b[0mbins\u001b[0m\u001b[0;34m=\u001b[0m\u001b[0mint\u001b[0m\u001b[0;34m(\u001b[0m\u001b[0;36m180\u001b[0m\u001b[0;34m/\u001b[0m\u001b[0;36m5\u001b[0m\u001b[0;34m)\u001b[0m\u001b[0;34m,\u001b[0m \u001b[0mcolor\u001b[0m \u001b[0;34m=\u001b[0m \u001b[0;34m'darkblue'\u001b[0m\u001b[0;34m,\u001b[0m\u001b[0;34m\u001b[0m\u001b[0m\n\u001b[1;32m      3\u001b[0m              \u001b[0mhist_kws\u001b[0m\u001b[0;34m=\u001b[0m\u001b[0;34m{\u001b[0m\u001b[0;34m'edgecolor'\u001b[0m\u001b[0;34m:\u001b[0m\u001b[0;34m'black'\u001b[0m\u001b[0;34m}\u001b[0m\u001b[0;34m,\u001b[0m\u001b[0;34m\u001b[0m\u001b[0m\n\u001b[1;32m      4\u001b[0m              kde_kws={'linewidth': 4})\n",
      "\u001b[0;31mNameError\u001b[0m: name 'sns' is not defined"
     ]
    }
   ],
   "source": [
    "sns.distplot(df_TECRDB['coef'], hist=True, kde=True, \n",
    "             bins=int(180/5), color = 'darkblue', \n",
    "             hist_kws={'edgecolor':'black'},\n",
    "             kde_kws={'linewidth': 4})"
   ]
  },
  {
   "cell_type": "code",
   "execution_count": 36,
   "metadata": {},
   "outputs": [
    {
     "data": {
      "text/plain": [
       "[<matplotlib.lines.Line2D at 0x1a23518d90>]"
      ]
     },
     "execution_count": 36,
     "metadata": {},
     "output_type": "execute_result"
    },
    {
     "data": {
      "image/png": "[encoded data removed]",
      "text/plain": [
       "<Figure size 432x288 with 1 Axes>"
      ]
     },
     "metadata": {
      "image/png": {
       "height": 250,
       "width": 386
      },
      "needs_background": "light"
     },
     "output_type": "display_data"
    }
   ],
   "source": [
    "import scipy.stats as stats\n",
    "mu = 0\n",
    "sigma = 90\n",
    "x = np.linspace(-270, 270, 100)\n",
    "plt.plot(x, stats.norm.pdf(x, mu, sigma))"
   ]
  },
  {
   "cell_type": "code",
   "execution_count": 39,
   "metadata": {},
   "outputs": [
    {
     "data": {
      "text/html": [
       "<div>\n",
       "<style scoped>\n",
       "    .dataframe tbody tr th:only-of-type {\n",
       "        vertical-align: middle;\n",
       "    }\n",
       "\n",
       "    .dataframe tbody tr th {\n",
       "        vertical-align: top;\n",
       "    }\n",
       "\n",
       "    .dataframe thead th {\n",
       "        text-align: right;\n",
       "    }\n",
       "</style>\n",
       "<table border=\"1\" class=\"dataframe\">\n",
       "  <thead>\n",
       "    <tr style=\"text-align: right;\">\n",
       "      <th></th>\n",
       "      <th>coef</th>\n",
       "      <th>cov</th>\n",
       "      <th>group</th>\n",
       "    </tr>\n",
       "  </thead>\n",
       "  <tbody>\n",
       "    <tr>\n",
       "      <th>130</th>\n",
       "      <td>-2.497525e-10</td>\n",
       "      <td>89.894796</td>\n",
       "      <td>CC(=C)N</td>\n",
       "    </tr>\n",
       "    <tr>\n",
       "      <th>162</th>\n",
       "      <td>-1.420590e-10</td>\n",
       "      <td>89.894796</td>\n",
       "      <td>CC(C)(C)S</td>\n",
       "    </tr>\n",
       "    <tr>\n",
       "      <th>473</th>\n",
       "      <td>-8.454125e-12</td>\n",
       "      <td>89.894796</td>\n",
       "      <td>C[C@H](N)S</td>\n",
       "    </tr>\n",
       "    <tr>\n",
       "      <th>206</th>\n",
       "      <td>-2.610767e-13</td>\n",
       "      <td>89.894796</td>\n",
       "      <td>CC(C)[NH3+]</td>\n",
       "    </tr>\n",
       "    <tr>\n",
       "      <th>794</th>\n",
       "      <td>-1.847460e-15</td>\n",
       "      <td>6.279318</td>\n",
       "      <td>S</td>\n",
       "    </tr>\n",
       "    <tr>\n",
       "      <th>861</th>\n",
       "      <td>-5.259381e-16</td>\n",
       "      <td>6.279318</td>\n",
       "      <td>[Fe]</td>\n",
       "    </tr>\n",
       "    <tr>\n",
       "      <th>1244</th>\n",
       "      <td>-1.068854e-78</td>\n",
       "      <td>89.894796</td>\n",
       "      <td>cc(C)s</td>\n",
       "    </tr>\n",
       "    <tr>\n",
       "      <th>1396</th>\n",
       "      <td>-1.414683e-145</td>\n",
       "      <td>89.894796</td>\n",
       "      <td>nc(N)[nH]</td>\n",
       "    </tr>\n",
       "    <tr>\n",
       "      <th>1425</th>\n",
       "      <td>-2.952866e-161</td>\n",
       "      <td>89.894796</td>\n",
       "      <td>nc[nH+]</td>\n",
       "    </tr>\n",
       "    <tr>\n",
       "      <th>1377</th>\n",
       "      <td>1.217366e-143</td>\n",
       "      <td>89.894796</td>\n",
       "      <td>csc</td>\n",
       "    </tr>\n",
       "    <tr>\n",
       "      <th>1346</th>\n",
       "      <td>2.828367e-126</td>\n",
       "      <td>89.894796</td>\n",
       "      <td>ccs</td>\n",
       "    </tr>\n",
       "    <tr>\n",
       "      <th>1247</th>\n",
       "      <td>3.181919e-82</td>\n",
       "      <td>89.894796</td>\n",
       "      <td>cc(N)n</td>\n",
       "    </tr>\n",
       "    <tr>\n",
       "      <th>1147</th>\n",
       "      <td>1.339145e-53</td>\n",
       "      <td>89.894796</td>\n",
       "      <td>c[C@@H](C)C</td>\n",
       "    </tr>\n",
       "    <tr>\n",
       "      <th>585</th>\n",
       "      <td>1.183546e-13</td>\n",
       "      <td>89.894796</td>\n",
       "      <td>Cc(n)n</td>\n",
       "    </tr>\n",
       "    <tr>\n",
       "      <th>872</th>\n",
       "      <td>1.222801e-13</td>\n",
       "      <td>6.279318</td>\n",
       "      <td>[Mn]</td>\n",
       "    </tr>\n",
       "    <tr>\n",
       "      <th>202</th>\n",
       "      <td>4.229779e-13</td>\n",
       "      <td>89.894796</td>\n",
       "      <td>CC(C)S</td>\n",
       "    </tr>\n",
       "    <tr>\n",
       "      <th>528</th>\n",
       "      <td>6.584362e-12</td>\n",
       "      <td>89.894796</td>\n",
       "      <td>C[N+](C)(C)C</td>\n",
       "    </tr>\n",
       "    <tr>\n",
       "      <th>369</th>\n",
       "      <td>2.758135e-11</td>\n",
       "      <td>89.894796</td>\n",
       "      <td>CS(=O)(=O)[O-]</td>\n",
       "    </tr>\n",
       "    <tr>\n",
       "      <th>158</th>\n",
       "      <td>3.415910e-10</td>\n",
       "      <td>89.894796</td>\n",
       "      <td>CC(C)(C)C</td>\n",
       "    </tr>\n",
       "  </tbody>\n",
       "</table>\n",
       "</div>"
      ],
      "text/plain": [
       "               coef        cov           group\n",
       "130   -2.497525e-10  89.894796         CC(=C)N\n",
       "162   -1.420590e-10  89.894796       CC(C)(C)S\n",
       "473   -8.454125e-12  89.894796      C[C@H](N)S\n",
       "206   -2.610767e-13  89.894796     CC(C)[NH3+]\n",
       "794   -1.847460e-15   6.279318               S\n",
       "861   -5.259381e-16   6.279318            [Fe]\n",
       "1244  -1.068854e-78  89.894796          cc(C)s\n",
       "1396 -1.414683e-145  89.894796       nc(N)[nH]\n",
       "1425 -2.952866e-161  89.894796         nc[nH+]\n",
       "1377  1.217366e-143  89.894796             csc\n",
       "1346  2.828367e-126  89.894796             ccs\n",
       "1247   3.181919e-82  89.894796          cc(N)n\n",
       "1147   1.339145e-53  89.894796     c[C@@H](C)C\n",
       "585    1.183546e-13  89.894796          Cc(n)n\n",
       "872    1.222801e-13   6.279318            [Mn]\n",
       "202    4.229779e-13  89.894796          CC(C)S\n",
       "528    6.584362e-12  89.894796    C[N+](C)(C)C\n",
       "369    2.758135e-11  89.894796  CS(=O)(=O)[O-]\n",
       "158    3.415910e-10  89.894796       CC(C)(C)C"
      ]
     },
     "execution_count": 39,
     "metadata": {},
     "output_type": "execute_result"
    }
   ],
   "source": [
    "df_TECRDB[(df_TECRDB['coef']<1e-3) & (df_TECRDB['coef']>-1e-3)]"
   ]
  },
  {
   "cell_type": "code",
   "execution_count": 40,
   "metadata": {},
   "outputs": [
    {
     "data": {
      "text/html": [
       "<div>\n",
       "<style scoped>\n",
       "    .dataframe tbody tr th:only-of-type {\n",
       "        vertical-align: middle;\n",
       "    }\n",
       "\n",
       "    .dataframe tbody tr th {\n",
       "        vertical-align: top;\n",
       "    }\n",
       "\n",
       "    .dataframe thead th {\n",
       "        text-align: right;\n",
       "    }\n",
       "</style>\n",
       "<table border=\"1\" class=\"dataframe\">\n",
       "  <thead>\n",
       "    <tr style=\"text-align: right;\">\n",
       "      <th></th>\n",
       "      <th>coef</th>\n",
       "      <th>cov</th>\n",
       "      <th>group</th>\n",
       "    </tr>\n",
       "  </thead>\n",
       "  <tbody>\n",
       "    <tr>\n",
       "      <th>869</th>\n",
       "      <td>-453.039887</td>\n",
       "      <td>6.279318</td>\n",
       "      <td>[Mg+2]</td>\n",
       "    </tr>\n",
       "    <tr>\n",
       "      <th>904</th>\n",
       "      <td>-301.175743</td>\n",
       "      <td>48.781402</td>\n",
       "      <td>[O-]P</td>\n",
       "    </tr>\n",
       "    <tr>\n",
       "      <th>730</th>\n",
       "      <td>-271.286194</td>\n",
       "      <td>73.735211</td>\n",
       "      <td>O=P</td>\n",
       "    </tr>\n",
       "  </tbody>\n",
       "</table>\n",
       "</div>"
      ],
      "text/plain": [
       "           coef        cov   group\n",
       "869 -453.039887   6.279318  [Mg+2]\n",
       "904 -301.175743  48.781402   [O-]P\n",
       "730 -271.286194  73.735211     O=P"
      ]
     },
     "execution_count": 40,
     "metadata": {},
     "output_type": "execute_result"
    }
   ],
   "source": [
    "df_TECRDB[(df_TECRDB['coef']<-270)]"
   ]
  },
  {
   "cell_type": "code",
   "execution_count": 41,
   "metadata": {},
   "outputs": [
    {
     "data": {
      "text/plain": [
       "array([[ 8.08107430e+03,  3.51924408e-14,  1.53966929e-14, ...,\n",
       "         0.00000000e+00,  0.00000000e+00,  2.47996732e-13],\n",
       "       [ 3.51924408e-14,  8.08107430e+03,  4.81696534e-13, ...,\n",
       "         0.00000000e+00,  0.00000000e+00, -2.94736692e-12],\n",
       "       [ 1.31971653e-14,  5.43283306e-13,  8.08107430e+03, ...,\n",
       "         0.00000000e+00,  0.00000000e+00, -4.83896062e-14],\n",
       "       ...,\n",
       "       [ 0.00000000e+00,  0.00000000e+00,  0.00000000e+00, ...,\n",
       "         4.05041872e+03,  4.03065559e+03,  0.00000000e+00],\n",
       "       [ 0.00000000e+00,  0.00000000e+00,  0.00000000e+00, ...,\n",
       "         4.03065559e+03,  4.05041872e+03,  0.00000000e+00],\n",
       "       [ 2.47859261e-13, -2.94571728e-12, -4.39905511e-14, ...,\n",
       "         0.00000000e+00,  0.00000000e+00,  7.48337600e+03]])"
      ]
     },
     "execution_count": 41,
     "metadata": {},
     "output_type": "execute_result"
    }
   ],
   "source": [
    "loaded_model.sigma_"
   ]
  },
  {
   "cell_type": "code",
   "execution_count": 44,
   "metadata": {},
   "outputs": [
    {
     "data": {
      "text/plain": [
       "0.025237761242655997"
      ]
     },
     "execution_count": 44,
     "metadata": {},
     "output_type": "execute_result"
    }
   ],
   "source": [
    "loaded_model.alpha_"
   ]
  },
  {
   "cell_type": "code",
   "execution_count": 48,
   "metadata": {},
   "outputs": [
    {
     "data": {
      "text/plain": [
       "0.0001237459232125717"
      ]
     },
     "execution_count": 48,
     "metadata": {},
     "output_type": "execute_result"
    }
   ],
   "source": [
    "loaded_model.lambda_"
   ]
  },
  {
   "cell_type": "code",
   "execution_count": 46,
   "metadata": {},
   "outputs": [
    {
     "data": {
      "text/plain": [
       "1e-06"
      ]
     },
     "execution_count": 46,
     "metadata": {},
     "output_type": "execute_result"
    }
   ],
   "source": [
    "# loaded_model.alpha_2"
   ]
  },
  {
   "cell_type": "code",
   "execution_count": 50,
   "metadata": {},
   "outputs": [
    {
     "data": {
      "text/plain": [
       "8081.074301592889"
      ]
     },
     "execution_count": 50,
     "metadata": {},
     "output_type": "execute_result"
    }
   ],
   "source": [
    "1/loaded_model.lambda_"
   ]
  },
  {
   "cell_type": "code",
   "execution_count": null,
   "metadata": {},
   "outputs": [],
   "source": []
  }
 ],
 "metadata": {
  "kernelspec": {
   "display_name": "Python 2",
   "language": "python",
   "name": "python2"
  },
  "language_info": {
   "codemirror_mode": {
    "name": "ipython",
    "version": 2
   },
   "file_extension": ".py",
   "mimetype": "text/x-python",
   "name": "python",
   "nbconvert_exporter": "python",
   "pygments_lexer": "ipython2",
   "version": "2.7.15"
  }
 },
 "nbformat": 4,
 "nbformat_minor": 2
}
